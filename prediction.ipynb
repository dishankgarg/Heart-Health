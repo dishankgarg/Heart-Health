{
 "cells": [
  {
   "cell_type": "code",
   "execution_count": 1,
   "id": "9d0b40b1",
   "metadata": {},
   "outputs": [
    {
     "name": "stderr",
     "output_type": "stream",
     "text": [
      "D:\\anaconda\\lib\\site-packages\\scipy\\__init__.py:146: UserWarning: A NumPy version >=1.16.5 and <1.23.0 is required for this version of SciPy (detected version 1.26.1\n",
      "  warnings.warn(f\"A NumPy version >={np_minversion} and <{np_maxversion}\"\n"
     ]
    }
   ],
   "source": [
    "from keras.models import load_model\n",
    "from keras.preprocessing.image import load_img,img_to_array\n",
    "import matplotlib.pyplot as plt\n",
    "import matplotlib.image as mpimg\n",
    "import numpy as np\n",
    "import pandas as pd\n",
    "import os\n",
    "\n",
    "model1 = load_model('./Resnet.h5',compile=False)\n",
    "\n",
    "lab = {0:'Fusion of ventricular and normal beat',\n",
    "       1:'myocardial infarction',\n",
    "       2:'Normal beat',\n",
    "       3:'Unclassifiable beat',\n",
    "       4:'Supraventricular premature beat',\n",
    "       5:'Premature ventricular contraction'}\n",
    "\n",
    "def output(location):\n",
    "    img=load_img(location,target_size=(224,224,3))\n",
    "    img=img_to_array(img)\n",
    "    img=img/255\n",
    "    img=np.expand_dims(img,[0])\n",
    "    answer=model1.predict(img)\n",
    "    y_class = answer.argmax(axis=-1)\n",
    "    y = \" \".join(str(x) for x in y_class)\n",
    "    y = int(y)\n",
    "    return y\n",
    "\n"
   ]
  },
  {
   "cell_type": "code",
   "execution_count": 2,
   "id": "1fab3c07",
   "metadata": {},
   "outputs": [],
   "source": [
    "# Create a folder to save the plots\n",
    "folder_name = 'interval_plots'\n",
    "os.makedirs(folder_name, exist_ok=True)  # Create the folder if it doesn't exist"
   ]
  },
  {
   "cell_type": "code",
   "execution_count": 3,
   "id": "7ae17c6e",
   "metadata": {},
   "outputs": [
    {
     "name": "stdout",
     "output_type": "stream",
     "text": [
      "Deleted: interval_plots\\plot_interval_1001_1040.png\n",
      "Deleted: interval_plots\\plot_interval_1041_1080.png\n",
      "Deleted: interval_plots\\plot_interval_1081_1120.png\n",
      "Deleted: interval_plots\\plot_interval_1121_1160.png\n",
      "Deleted: interval_plots\\plot_interval_1161_1200.png\n",
      "Deleted: interval_plots\\plot_interval_1201_1240.png\n",
      "Deleted: interval_plots\\plot_interval_121_160.png\n",
      "Deleted: interval_plots\\plot_interval_1241_1280.png\n",
      "Deleted: interval_plots\\plot_interval_1281_1320.png\n",
      "Deleted: interval_plots\\plot_interval_1321_1360.png\n",
      "Deleted: interval_plots\\plot_interval_1361_1400.png\n",
      "Deleted: interval_plots\\plot_interval_1401_1440.png\n",
      "Deleted: interval_plots\\plot_interval_1441_1480.png\n",
      "Deleted: interval_plots\\plot_interval_1481_1520.png\n",
      "Deleted: interval_plots\\plot_interval_1521_1560.png\n",
      "Deleted: interval_plots\\plot_interval_1561_1600.png\n",
      "Deleted: interval_plots\\plot_interval_1601_1640.png\n",
      "Deleted: interval_plots\\plot_interval_161_200.png\n",
      "Deleted: interval_plots\\plot_interval_1641_1680.png\n",
      "Deleted: interval_plots\\plot_interval_1681_1720.png\n",
      "Deleted: interval_plots\\plot_interval_1721_1760.png\n",
      "Deleted: interval_plots\\plot_interval_1761_1800.png\n",
      "Deleted: interval_plots\\plot_interval_1801_1840.png\n",
      "Deleted: interval_plots\\plot_interval_1841_1880.png\n",
      "Deleted: interval_plots\\plot_interval_1881_1920.png\n",
      "Deleted: interval_plots\\plot_interval_1921_1960.png\n",
      "Deleted: interval_plots\\plot_interval_1961_2000.png\n",
      "Deleted: interval_plots\\plot_interval_1_40.png\n",
      "Deleted: interval_plots\\plot_interval_201_240.png\n",
      "Deleted: interval_plots\\plot_interval_241_280.png\n",
      "Deleted: interval_plots\\plot_interval_281_320.png\n",
      "Deleted: interval_plots\\plot_interval_321_360.png\n",
      "Deleted: interval_plots\\plot_interval_361_400.png\n",
      "Deleted: interval_plots\\plot_interval_401_440.png\n",
      "Deleted: interval_plots\\plot_interval_41_80.png\n",
      "Deleted: interval_plots\\plot_interval_441_480.png\n",
      "Deleted: interval_plots\\plot_interval_481_520.png\n",
      "Deleted: interval_plots\\plot_interval_521_560.png\n",
      "Deleted: interval_plots\\plot_interval_561_600.png\n",
      "Deleted: interval_plots\\plot_interval_601_640.png\n",
      "Deleted: interval_plots\\plot_interval_641_680.png\n",
      "Deleted: interval_plots\\plot_interval_681_720.png\n",
      "Deleted: interval_plots\\plot_interval_721_760.png\n",
      "Deleted: interval_plots\\plot_interval_761_800.png\n",
      "Deleted: interval_plots\\plot_interval_801_840.png\n",
      "Deleted: interval_plots\\plot_interval_81_120.png\n",
      "Deleted: interval_plots\\plot_interval_841_880.png\n",
      "Deleted: interval_plots\\plot_interval_881_920.png\n",
      "Deleted: interval_plots\\plot_interval_921_960.png\n",
      "Deleted: interval_plots\\plot_interval_961_1000.png\n",
      "All files inside the folder have been deleted.\n"
     ]
    }
   ],
   "source": [
    "folder_path = 'interval_plots'  # Replace this with the path to your folder\n",
    "\n",
    "# List all files in the folder\n",
    "files = os.listdir(folder_path)\n",
    "\n",
    "# Iterate through each file and delete them\n",
    "for file_name in files:\n",
    "    file_path = os.path.join(folder_path, file_name)\n",
    "    if os.path.isfile(file_path):  # Check if it's a file (not a directory)\n",
    "        os.remove(file_path)\n",
    "        print(f\"Deleted: {file_path}\")\n",
    "\n",
    "print(\"All files inside the folder have been deleted.\")\n"
   ]
  },
  {
   "cell_type": "code",
   "execution_count": 4,
   "id": "4f969c57",
   "metadata": {},
   "outputs": [],
   "source": [
    "# Load the CSV file\n",
    "file_path = './jainam_data.csv'  # Replace 'your_file.csv' with your file's path\n",
    "data = pd.read_csv(file_path)\n",
    "\n",
    "# Assuming the CSV file has a column named 'values' that you want to plot\n",
    "column_name = '4'"
   ]
  },
  {
   "cell_type": "code",
   "execution_count": 5,
   "id": "55b3eb45",
   "metadata": {},
   "outputs": [
    {
     "name": "stdout",
     "output_type": "stream",
     "text": [
      "Plots saved in the folder: interval_plots\n"
     ]
    }
   ],
   "source": [
    "# Plotting in intervals of 100\n",
    "interval = 40\n",
    "num_rows = len(data)\n",
    "for i in range(0,2000, interval):\n",
    "    subset = data.iloc[i:i + interval]  # Extract a subset of data for the interval\n",
    "    plt.plot(subset[column_name], label=f'Interval {i+1}-{i+interval if i+interval<num_rows else num_rows}')\n",
    "\n",
    "   \n",
    "    \n",
    "    fig = plt.gcf()\n",
    "    fig.set_size_inches(224 / fig.dpi, 224 / fig.dpi)\n",
    "\n",
    "    # Save the plot in the folder\n",
    "    plt.savefig(f'{folder_name}/plot_interval_{i+1}_{i+interval if i+interval<num_rows else num_rows}.png')\n",
    "    plt.close()  # Close the plot to avoid overlapping\n",
    "\n",
    "print(\"Plots saved in the folder:\", folder_name)\n",
    "\n",
    "\n",
    "\n",
    "\n",
    "    \n"
   ]
  },
  {
   "cell_type": "code",
   "execution_count": 8,
   "id": "7938dc0d",
   "metadata": {},
   "outputs": [
    {
     "name": "stdout",
     "output_type": "stream",
     "text": [
      "1/1 [==============================] - 0s 407ms/step\n",
      "1/1 [==============================] - 0s 236ms/step\n",
      "1/1 [==============================] - 0s 247ms/step\n",
      "1/1 [==============================] - 0s 251ms/step\n",
      "1/1 [==============================] - 0s 219ms/step\n",
      "1/1 [==============================] - 0s 225ms/step\n",
      "1/1 [==============================] - 0s 236ms/step\n",
      "1/1 [==============================] - 0s 207ms/step\n",
      "1/1 [==============================] - 0s 219ms/step\n",
      "1/1 [==============================] - 0s 219ms/step\n",
      "1/1 [==============================] - 0s 214ms/step\n",
      "1/1 [==============================] - 0s 203ms/step\n",
      "1/1 [==============================] - 0s 204ms/step\n",
      "1/1 [==============================] - 0s 241ms/step\n",
      "1/1 [==============================] - 0s 219ms/step\n",
      "1/1 [==============================] - 0s 235ms/step\n",
      "1/1 [==============================] - 0s 222ms/step\n",
      "1/1 [==============================] - 0s 204ms/step\n",
      "1/1 [==============================] - 0s 204ms/step\n",
      "1/1 [==============================] - 0s 203ms/step\n",
      "1/1 [==============================] - 0s 204ms/step\n",
      "1/1 [==============================] - 0s 203ms/step\n",
      "1/1 [==============================] - 0s 223ms/step\n",
      "1/1 [==============================] - 0s 220ms/step\n",
      "1/1 [==============================] - 0s 230ms/step\n",
      "1/1 [==============================] - 0s 221ms/step\n",
      "1/1 [==============================] - 0s 300ms/step\n",
      "1/1 [==============================] - 0s 226ms/step\n",
      "1/1 [==============================] - 0s 198ms/step\n",
      "1/1 [==============================] - 0s 213ms/step\n",
      "1/1 [==============================] - 0s 205ms/step\n",
      "1/1 [==============================] - 0s 221ms/step\n",
      "1/1 [==============================] - 0s 214ms/step\n",
      "1/1 [==============================] - 0s 229ms/step\n",
      "1/1 [==============================] - 0s 211ms/step\n",
      "1/1 [==============================] - 0s 206ms/step\n",
      "1/1 [==============================] - 0s 220ms/step\n",
      "1/1 [==============================] - 0s 219ms/step\n",
      "1/1 [==============================] - 0s 220ms/step\n",
      "1/1 [==============================] - 0s 219ms/step\n",
      "1/1 [==============================] - 0s 238ms/step\n",
      "1/1 [==============================] - 0s 231ms/step\n",
      "1/1 [==============================] - 0s 220ms/step\n",
      "1/1 [==============================] - 0s 219ms/step\n",
      "1/1 [==============================] - 0s 219ms/step\n",
      "1/1 [==============================] - 0s 219ms/step\n",
      "1/1 [==============================] - 0s 207ms/step\n",
      "1/1 [==============================] - 0s 234ms/step\n",
      "1/1 [==============================] - 0s 235ms/step\n",
      "1/1 [==============================] - 0s 220ms/step\n",
      "Premature ventricular contraction\n"
     ]
    }
   ],
   "source": [
    "\n",
    "\n",
    "# Path to the folder containing images\n",
    "folder_path = 'interval_plots/'\n",
    "\n",
    "# Get a list of all files in the folder\n",
    "file_list = os.listdir(folder_path)\n",
    "\n",
    "# Filter out only the image files (assuming they have .png extension)\n",
    "image_files = [file for file in file_list if file.endswith('.png')]\n",
    "\n",
    "# List to store the predictions\n",
    "predictions = {0:1,1:0,2:0,3:0,4:0,5:0}\n",
    "\n",
    "# Loop through each image file in the folder\n",
    "for img_file in image_files:\n",
    "    # Path to each image file\n",
    "    img_path = os.path.join(folder_path, img_file)\n",
    "\n",
    "    # Assuming you have an output function that processes the image\n",
    "    result = output(img_path)\n",
    "    \n",
    "    # Ensure the result is within the range of 0 to 5\n",
    "    result = max(0, min(result, 5))\n",
    "    \n",
    "    # Append the result to the predictions list\n",
    "    predictions[result]+=1;\n",
    "\n",
    "    \n",
    "\n",
    "maj = -1;\n",
    "count = 0;\n",
    "for i in range(6):\n",
    "    if(predictions[i]>count):\n",
    "        count = predictions[i]; \n",
    "        maj = i;\n",
    "        \n",
    "print(lab[maj])\n"
   ]
  },
  {
   "cell_type": "code",
   "execution_count": null,
   "id": "2a3a79b8",
   "metadata": {},
   "outputs": [],
   "source": []
  },
  {
   "cell_type": "code",
   "execution_count": 33,
   "id": "a2f22305",
   "metadata": {},
   "outputs": [
    {
     "data": {
      "text/plain": [
       "{0: 11, 1: 0, 2: 0, 3: 0, 4: 0, 5: 40}"
      ]
     },
     "execution_count": 33,
     "metadata": {},
     "output_type": "execute_result"
    }
   ],
   "source": [
    "predictions"
   ]
  },
  {
   "cell_type": "code",
   "execution_count": null,
   "id": "fa444cbf",
   "metadata": {},
   "outputs": [],
   "source": []
  }
 ],
 "metadata": {
  "kernelspec": {
   "display_name": "Python 3 (ipykernel)",
   "language": "python",
   "name": "python3"
  },
  "language_info": {
   "codemirror_mode": {
    "name": "ipython",
    "version": 3
   },
   "file_extension": ".py",
   "mimetype": "text/x-python",
   "name": "python",
   "nbconvert_exporter": "python",
   "pygments_lexer": "ipython3",
   "version": "3.9.12"
  }
 },
 "nbformat": 4,
 "nbformat_minor": 5
}
